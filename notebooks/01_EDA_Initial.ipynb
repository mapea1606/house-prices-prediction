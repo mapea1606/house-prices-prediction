{
 "cells": [
  {
   "cell_type": "code",
   "execution_count": 11,
   "id": "7517e281-7509-4f8e-b775-7687cb1c2e49",
   "metadata": {},
   "outputs": [
    {
     "name": "stdout",
     "output_type": "stream",
     "text": [
      "Data successfully loaded.\n"
     ]
    }
   ],
   "source": [
    "# Essential Library Imports\n",
    "import pandas as pd\n",
    "import numpy as np\n",
    "import matplotlib.pyplot as plt\n",
    "import seaborn as sns\n",
    "\n",
    "# Plotting Style Configuration\n",
    "sns.set_style(\"whitegrid\")\n",
    "plt.rcParams['figure.figsize'] = (10, 6) # Default size for figures\n",
    "\n",
    "# =================================================================\n",
    "# Data Loading\n",
    "# =================================================================\n",
    "# Professional Note: The file path points directly to the 'raw/' directory\n",
    "# to maintain traceability and immutability of the original data.\n",
    "try:\n",
    "    df_train = pd.read_csv('data/raw/train.csv')\n",
    "    df_test = pd.read_csv('data/raw/test.csv')\n",
    "    print(\"Data successfully loaded.\")\n",
    "except FileNotFoundError:\n",
    "    print(\"Error: Ensure that 'train.csv' and 'test.csv' files are in the 'data/raw/' folder.\")\n",
    "\n",
    "# Set 'Id' as the index for both DataFrames\n",
    "df_train = df_train.set_index('Id')\n",
    "df_test = df_test.set_index('Id')"
   ]
  },
  {
   "cell_type": "code",
   "execution_count": null,
   "id": "d3f40b11-123b-4b19-b880-bdac787767d3",
   "metadata": {},
   "outputs": [],
   "source": []
  }
 ],
 "metadata": {
  "kernelspec": {
   "display_name": "Python 3 (ipykernel)",
   "language": "python",
   "name": "python3"
  },
  "language_info": {
   "codemirror_mode": {
    "name": "ipython",
    "version": 3
   },
   "file_extension": ".py",
   "mimetype": "text/x-python",
   "name": "python",
   "nbconvert_exporter": "python",
   "pygments_lexer": "ipython3",
   "version": "3.12.3"
  }
 },
 "nbformat": 4,
 "nbformat_minor": 5
}
