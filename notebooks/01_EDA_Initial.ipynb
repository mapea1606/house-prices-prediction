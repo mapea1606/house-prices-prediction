{
 "cells": [
  {
   "cell_type": "markdown",
   "id": "d4317e18-d107-450c-9c45-2333a85de207",
   "metadata": {},
   "source": [
    "# 🏡 House Prices Prediction: 01 - Initial Exploratory Data Analysis (EDA)\n",
    "\n",
    "## 1.1. Project Objective and Data Source\n",
    "\n",
    "The primary goal of this notebook is to begin the **Exploratory Data Analysis (EDA)** phase of the House Prices Advanced Regression Techniques competition from Kaggle. We aim to understand the structure, data types, and initial distribution of the target variable (`SalePrice`) to inform our cleaning and modeling strategy.\n",
    "\n",
    "**Data Source:** Ames, Iowa Housing Data (Kaggle).\n",
    "\n",
    "---"
   ]
  },
  {
   "cell_type": "code",
   "execution_count": 19,
   "id": "7517e281-7509-4f8e-b775-7687cb1c2e49",
   "metadata": {},
   "outputs": [
    {
     "name": "stdout",
     "output_type": "stream",
     "text": [
      "Data successfully loaded.\n"
     ]
    }
   ],
   "source": [
    "# Essential Library Imports\n",
    "import pandas as pd\n",
    "import numpy as np\n",
    "import matplotlib.pyplot as plt\n",
    "import seaborn as sns\n",
    "\n",
    "# Plotting Style Configuration\n",
    "sns.set_style(\"whitegrid\")\n",
    "plt.rcParams['figure.figsize'] = (10, 6) # Default size for figures\n",
    "\n",
    "# =================================================================\n",
    "# Data Loading\n",
    "# =================================================================\n",
    "# Professional Note: The file path points directly to the 'raw/' directory\n",
    "# to maintain traceability and immutability of the original data.\n",
    "try:\n",
    "    df_train = pd.read_csv('data/raw/train.csv')\n",
    "    df_test = pd.read_csv('data/raw/test.csv')\n",
    "    print(\"Data successfully loaded.\")\n",
    "except FileNotFoundError:\n",
    "    print(\"Error: Ensure that 'train.csv' and 'test.csv' files are in the 'data/raw/' folder.\")\n",
    "\n",
    "# Set 'Id' as the index for both DataFrames\n",
    "df_train = df_train.set_index('Id')\n",
    "df_test = df_test.set_index('Id')"
   ]
  },
  {
   "cell_type": "markdown",
   "id": "29a53d24-86db-4eef-8a2c-589794a5674a",
   "metadata": {},
   "source": [
    "## 1.2. Environment Setup and Data Loading\n",
    "\n",
    "This section imports all necessary libraries (Pandas, NumPy, Matplotlib, Seaborn) and configures the plotting environment. It loads the original, immutable `train.csv` and `test.csv` files from the `data/raw/` directory, a professional practice that ensures data integrity and traceability. The `Id` column is immediately set as the DataFrame index.\n",
    "\n",
    "### Initial Data Check\n",
    "\n",
    "We inspect the first five rows and verify the dimensions and data types of the loaded datasets."
   ]
  },
  {
   "cell_type": "code",
   "execution_count": 20,
   "id": "d3f40b11-123b-4b19-b880-bdac787767d3",
   "metadata": {},
   "outputs": [
    {
     "name": "stdout",
     "output_type": "stream",
     "text": [
      "First rows of the training set (Train Data Head):\n",
      "\n",
      "    MSSubClass MSZoning  LotFrontage  LotArea Street Alley LotShape  \\\n",
      "Id                                                                    \n",
      "1           60       RL         65.0     8450   Pave   NaN      Reg   \n",
      "2           20       RL         80.0     9600   Pave   NaN      Reg   \n",
      "3           60       RL         68.0    11250   Pave   NaN      IR1   \n",
      "4           70       RL         60.0     9550   Pave   NaN      IR1   \n",
      "5           60       RL         84.0    14260   Pave   NaN      IR1   \n",
      "\n",
      "   LandContour Utilities LotConfig  ... PoolArea PoolQC Fence MiscFeature  \\\n",
      "Id                                  ...                                     \n",
      "1          Lvl    AllPub    Inside  ...        0    NaN   NaN         NaN   \n",
      "2          Lvl    AllPub       FR2  ...        0    NaN   NaN         NaN   \n",
      "3          Lvl    AllPub    Inside  ...        0    NaN   NaN         NaN   \n",
      "4          Lvl    AllPub    Corner  ...        0    NaN   NaN         NaN   \n",
      "5          Lvl    AllPub       FR2  ...        0    NaN   NaN         NaN   \n",
      "\n",
      "   MiscVal MoSold  YrSold  SaleType  SaleCondition  SalePrice  \n",
      "Id                                                             \n",
      "1        0      2    2008        WD         Normal     208500  \n",
      "2        0      5    2007        WD         Normal     181500  \n",
      "3        0      9    2008        WD         Normal     223500  \n",
      "4        0      2    2006        WD        Abnorml     140000  \n",
      "5        0     12    2008        WD         Normal     250000  \n",
      "\n",
      "[5 rows x 80 columns]\n",
      "\n",
      "DataFrame Information (Shape and Info):\n",
      "\n",
      "Train set rows and columns: (1460, 80)\n",
      "Test set rows and columns: (1459, 79)\n",
      "<class 'pandas.core.frame.DataFrame'>\n",
      "Index: 1460 entries, 1 to 1460\n",
      "Data columns (total 80 columns):\n",
      " #   Column         Non-Null Count  Dtype  \n",
      "---  ------         --------------  -----  \n",
      " 0   MSSubClass     1460 non-null   int64  \n",
      " 1   MSZoning       1460 non-null   object \n",
      " 2   LotFrontage    1201 non-null   float64\n",
      " 3   LotArea        1460 non-null   int64  \n",
      " 4   Street         1460 non-null   object \n",
      " 5   Alley          91 non-null     object \n",
      " 6   LotShape       1460 non-null   object \n",
      " 7   LandContour    1460 non-null   object \n",
      " 8   Utilities      1460 non-null   object \n",
      " 9   LotConfig      1460 non-null   object \n",
      " 10  LandSlope      1460 non-null   object \n",
      " 11  Neighborhood   1460 non-null   object \n",
      " 12  Condition1     1460 non-null   object \n",
      " 13  Condition2     1460 non-null   object \n",
      " 14  BldgType       1460 non-null   object \n",
      " 15  HouseStyle     1460 non-null   object \n",
      " 16  OverallQual    1460 non-null   int64  \n",
      " 17  OverallCond    1460 non-null   int64  \n",
      " 18  YearBuilt      1460 non-null   int64  \n",
      " 19  YearRemodAdd   1460 non-null   int64  \n",
      " 20  RoofStyle      1460 non-null   object \n",
      " 21  RoofMatl       1460 non-null   object \n",
      " 22  Exterior1st    1460 non-null   object \n",
      " 23  Exterior2nd    1460 non-null   object \n",
      " 24  MasVnrType     588 non-null    object \n",
      " 25  MasVnrArea     1452 non-null   float64\n",
      " 26  ExterQual      1460 non-null   object \n",
      " 27  ExterCond      1460 non-null   object \n",
      " 28  Foundation     1460 non-null   object \n",
      " 29  BsmtQual       1423 non-null   object \n",
      " 30  BsmtCond       1423 non-null   object \n",
      " 31  BsmtExposure   1422 non-null   object \n",
      " 32  BsmtFinType1   1423 non-null   object \n",
      " 33  BsmtFinSF1     1460 non-null   int64  \n",
      " 34  BsmtFinType2   1422 non-null   object \n",
      " 35  BsmtFinSF2     1460 non-null   int64  \n",
      " 36  BsmtUnfSF      1460 non-null   int64  \n",
      " 37  TotalBsmtSF    1460 non-null   int64  \n",
      " 38  Heating        1460 non-null   object \n",
      " 39  HeatingQC      1460 non-null   object \n",
      " 40  CentralAir     1460 non-null   object \n",
      " 41  Electrical     1459 non-null   object \n",
      " 42  1stFlrSF       1460 non-null   int64  \n",
      " 43  2ndFlrSF       1460 non-null   int64  \n",
      " 44  LowQualFinSF   1460 non-null   int64  \n",
      " 45  GrLivArea      1460 non-null   int64  \n",
      " 46  BsmtFullBath   1460 non-null   int64  \n",
      " 47  BsmtHalfBath   1460 non-null   int64  \n",
      " 48  FullBath       1460 non-null   int64  \n",
      " 49  HalfBath       1460 non-null   int64  \n",
      " 50  BedroomAbvGr   1460 non-null   int64  \n",
      " 51  KitchenAbvGr   1460 non-null   int64  \n",
      " 52  KitchenQual    1460 non-null   object \n",
      " 53  TotRmsAbvGrd   1460 non-null   int64  \n",
      " 54  Functional     1460 non-null   object \n",
      " 55  Fireplaces     1460 non-null   int64  \n",
      " 56  FireplaceQu    770 non-null    object \n",
      " 57  GarageType     1379 non-null   object \n",
      " 58  GarageYrBlt    1379 non-null   float64\n",
      " 59  GarageFinish   1379 non-null   object \n",
      " 60  GarageCars     1460 non-null   int64  \n",
      " 61  GarageArea     1460 non-null   int64  \n",
      " 62  GarageQual     1379 non-null   object \n",
      " 63  GarageCond     1379 non-null   object \n",
      " 64  PavedDrive     1460 non-null   object \n",
      " 65  WoodDeckSF     1460 non-null   int64  \n",
      " 66  OpenPorchSF    1460 non-null   int64  \n",
      " 67  EnclosedPorch  1460 non-null   int64  \n",
      " 68  3SsnPorch      1460 non-null   int64  \n",
      " 69  ScreenPorch    1460 non-null   int64  \n",
      " 70  PoolArea       1460 non-null   int64  \n",
      " 71  PoolQC         7 non-null      object \n",
      " 72  Fence          281 non-null    object \n",
      " 73  MiscFeature    54 non-null     object \n",
      " 74  MiscVal        1460 non-null   int64  \n",
      " 75  MoSold         1460 non-null   int64  \n",
      " 76  YrSold         1460 non-null   int64  \n",
      " 77  SaleType       1460 non-null   object \n",
      " 78  SaleCondition  1460 non-null   object \n",
      " 79  SalePrice      1460 non-null   int64  \n",
      "dtypes: float64(3), int64(34), object(43)\n",
      "memory usage: 923.9+ KB\n"
     ]
    }
   ],
   "source": [
    "# Show the first 5 rows of the training set\n",
    "print(\"First rows of the training set (Train Data Head):\\n\")\n",
    "print(df_train.head())\n",
    "\n",
    "# Review dimensions and data types\n",
    "print(\"\\nDataFrame Information (Shape and Info):\\n\")\n",
    "print(f\"Train set rows and columns: {df_train.shape}\")\n",
    "print(f\"Test set rows and columns: {df_test.shape}\")\n",
    "\n",
    "# Inspection of data types and non-null values\n",
    "df_train.info()"
   ]
  },
  {
   "cell_type": "markdown",
   "id": "48c64af3-6d35-4a55-b237-aa4d06b22879",
   "metadata": {},
   "source": [
    "## 1.3. Analysis of the Target Variable: `SalePrice`\n",
    "\n",
    "A professional analysis begins with the target variable, as its properties often dictate the necessary pre-processing steps.\n",
    "\n",
    "### Distribution Analysis\n",
    "\n",
    "The histogram below shows the distribution of house prices.\n",
    "\n",
    "**Observation:** The distribution is strongly **right-skewed** (positively skewed), as confirmed by the high Skewness value ($>1.0$).\n",
    "\n",
    "**Decision for Pre-processing:** To satisfy the assumptions of linear models and improve model performance, the `SalePrice` variable will require a **logarithmic transformation** (e.g., $\\log(1 + \\text{SalePrice})$) in the data cleaning phase."
   ]
  },
  {
   "cell_type": "code",
   "execution_count": 21,
   "id": "281910a3-5c6d-4fb7-ae06-0b15a6385b6f",
   "metadata": {},
   "outputs": [
    {
     "data": {
      "image/png": "[encoded data removed]",
      "text/plain": [
       "<Figure size 1000x600 with 1 Axes>"
      ]
     },
     "metadata": {},
     "output_type": "display_data"
    },
    {
     "name": "stdout",
     "output_type": "stream",
     "text": [
      "\n",
      "Target Variable Statistics:\n",
      "Skewness: 1.8829\n",
      "Kurtosis: 6.5363\n"
     ]
    }
   ],
   "source": [
    "# Distribution of the target variable (SalePrice)\n",
    "plt.figure(figsize=(10, 6))\n",
    "sns.histplot(df_train['SalePrice'], kde=True, bins=50, color='blue')\n",
    "plt.title('Distribution of Sale Price')\n",
    "plt.xlabel('Sale Price ($)')\n",
    "plt.ylabel('Frequency')\n",
    "plt.show()\n",
    "\n",
    "# Analysis of Skewness and Kurtosis\n",
    "print(\"\\nTarget Variable Statistics:\")\n",
    "print(f\"Skewness: {df_train['SalePrice'].skew():.4f}\")\n",
    "print(f\"Kurtosis: {df_train['SalePrice'].kurt():.4f}\")"
   ]
  },
  {
   "cell_type": "code",
   "execution_count": null,
   "id": "1ce35b36-75a4-449b-aa5e-f925d2307f3b",
   "metadata": {},
   "outputs": [],
   "source": []
  }
 ],
 "metadata": {
  "kernelspec": {
   "display_name": "Python 3 (ipykernel)",
   "language": "python",
   "name": "python3"
  },
  "language_info": {
   "codemirror_mode": {
    "name": "ipython",
    "version": 3
   },
   "file_extension": ".py",
   "mimetype": "text/x-python",
   "name": "python",
   "nbconvert_exporter": "python",
   "pygments_lexer": "ipython3",
   "version": "3.12.3"
  }
 },
 "nbformat": 4,
 "nbformat_minor": 5
}
