{
 "cells": [
  {
   "cell_type": "code",
   "execution_count": null,
   "id": "7517e281-7509-4f8e-b775-7687cb1c2e49",
   "metadata": {},
   "outputs": [
    {
     "name": "stdout",
     "output_type": "stream",
     "text": [
      "Error: Ensure that 'train.csv' and 'test.csv' files are in the 'data/raw/' folder.\n"
     ]
    },
    {
     "ename": "NameError",
     "evalue": "name 'df_train' is not defined",
     "output_type": "error",
     "traceback": [
      "\u001b[31m---------------------------------------------------------------------------\u001b[39m",
      "\u001b[31mNameError\u001b[39m                                 Traceback (most recent call last)",
      "\u001b[36mCell\u001b[39m\u001b[36m \u001b[39m\u001b[32mIn[5]\u001b[39m\u001b[32m, line 24\u001b[39m\n\u001b[32m     21\u001b[39m     \u001b[38;5;28mprint\u001b[39m(\u001b[33m\"\u001b[39m\u001b[33mError: Ensure that \u001b[39m\u001b[33m'\u001b[39m\u001b[33mtrain.csv\u001b[39m\u001b[33m'\u001b[39m\u001b[33m and \u001b[39m\u001b[33m'\u001b[39m\u001b[33mtest.csv\u001b[39m\u001b[33m'\u001b[39m\u001b[33m files are in the \u001b[39m\u001b[33m'\u001b[39m\u001b[33mdata/raw/\u001b[39m\u001b[33m'\u001b[39m\u001b[33m folder.\u001b[39m\u001b[33m\"\u001b[39m)\n\u001b[32m     23\u001b[39m \u001b[38;5;66;03m# Set 'Id' as the index for both DataFrames\u001b[39;00m\n\u001b[32m---> \u001b[39m\u001b[32m24\u001b[39m df_train = \u001b[43mdf_train\u001b[49m.set_index(\u001b[33m'\u001b[39m\u001b[33mId\u001b[39m\u001b[33m'\u001b[39m)\n\u001b[32m     25\u001b[39m df_test = df_test.set_index(\u001b[33m'\u001b[39m\u001b[33mId\u001b[39m\u001b[33m'\u001b[39m)\n",
      "\u001b[31mNameError\u001b[39m: name 'df_train' is not defined"
     ]
    }
   ],
   "source": [
    "# Essential Library Imports\n",
    "import pandas as pd\n",
    "import numpy as np\n",
    "import matplotlib.pyplot as plt\n",
    "import seaborn as sns\n",
    "\n",
    "# Plotting Style Configuration\n",
    "sns.set_style(\"whitegrid\")\n",
    "plt.rcParams['figure.figsize'] = (10, 6) # Default size for figures\n",
    "\n",
    "# =================================================================\n",
    "# Data Loading\n",
    "# =================================================================\n",
    "# Professional Note: The file path points directly to the 'raw/' directory\n",
    "# to maintain traceability and immutability of the original data.\n",
    "try:\n",
    "    df_train = pd.read_csv('../data/raw/train.csv')\n",
    "    df_test = pd.read_csv('../data/raw/test.csv')\n",
    "    print(\"Data successfully loaded.\")\n",
    "except FileNotFoundError:\n",
    "    print(\"Error: Ensure that 'train.csv' and 'test.csv' files are in the 'data/raw/' folder.\")\n",
    "\n",
    "# Set 'Id' as the index for both DataFrames\n",
    "df_train = df_train.set_index('Id')\n",
    "df_test = df_test.set_index('Id')"
   ]
  },
  {
   "cell_type": "code",
   "execution_count": null,
   "id": "946dccbf-141c-4894-823a-4cf18ccb3eff",
   "metadata": {},
   "outputs": [],
   "source": []
  }
 ],
 "metadata": {
  "kernelspec": {
   "display_name": "Python 3 (ipykernel)",
   "language": "python",
   "name": "python3"
  },
  "language_info": {
   "codemirror_mode": {
    "name": "ipython",
    "version": 3
   },
   "file_extension": ".py",
   "mimetype": "text/x-python",
   "name": "python",
   "nbconvert_exporter": "python",
   "pygments_lexer": "ipython3",
   "version": "3.12.3"
  }
 },
 "nbformat": 4,
 "nbformat_minor": 5
}
